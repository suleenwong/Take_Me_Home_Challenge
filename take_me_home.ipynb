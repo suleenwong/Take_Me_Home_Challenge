{
 "cells": [
  {
   "cell_type": "markdown",
   "metadata": {},
   "source": [
    "# Take me home challenge"
   ]
  },
  {
   "cell_type": "markdown",
   "metadata": {},
   "source": [
    "## Introduction:\n",
    "A Data Scientist should possess strong analytical skills as well as experience building software and strong communication skills. This technical challenge covers all three of these components using a sample data set. The data set is about students. The data set includes information about the students’ age, nationality, gender, as well as information about their studying habits. There is also a binary column expressing whether or not the students passed an important test.\n",
    "\n",
    "This challenge consists of three parts:\n",
    "\n",
    "### Part 1: Analysis\n",
    "- Describe the demographic details of people most likely to pass the test\n",
    "- Describe the efficacy of the two interventions - the test prep course and the Dojo class\n",
    "- Identify any other interesting trends from the data set and offer some analysis as to their importance or cause.\n",
    "\n",
    "### Part 2: Model Creation\n",
    "- Create a model that can predict whether or not a student will pass the test. Use the provided data set to train your model and test its accuracy. You have free choice of programming language, algorithm, and tools.\n",
    "\n",
    "### Part 3: Reporting\n",
    "- The goal in the final stage is to communicate your findings to less technical management staff. There are two requirements:\n",
    "- Create visualizations to show the efficacy of your model. A non-data scientist should be able to infer at a glance how well it fits the data.\n",
    "- Offer ideas for how we might help more people pass the test and create more accurate models based on your findings. Summarize with bullet points and consider adding more visuals.\n",
    "\n",
    "\n",
    "## Requirements:\n",
    "There is a requirements.txt file with a list of all the packages and dependencies you will need.\n",
    "\n",
    "To install the environment you can use the following commands in the terminal:\n",
    "\n",
    "```zsh\n",
    "pyenv local 3.9.8\n",
    "python -m venv .venv\n",
    "source .venv/bin/activate\n",
    "pip install --upgrade pip\n",
    "pip install -r requirements.txt\n",
    "```\n",
    "\n",
    "\n",
    "## Column descriptions\n",
    "\n",
    "Based on my best guess, the descriptions of the columns are presumed as follows:\n",
    "- **sex** - The sex of the student who took the test\n",
    "- **lang** - The language of the student took \n",
    "- **country** - The country where the student took the test\n",
    "- **age** - The age of the student \n",
    "- **hours_studied** - The number of hours the student studied\n",
    "- **dojo_class** - Whether the student took the Dojo class\n",
    "- **test_prep** - Whether the student did test preparation\n",
    "- **pass** - Whether or not the student passed the test. This is our target variable.\n",
    "\n",
    "## Questions explored in this notebook\n",
    "1. Describe the demographic details of people most likely to pass the test\n",
    "2. Describe the efficacy of the two interventions - the test prep course and the Dojo class\n",
    "3. Create a model that can predict whether or not a student will pass the test. Use the provided data set to train your model and test its accuracy. You have free choice of programming language, algorithm, and tools.\n",
    "\n",
    "## Additional notes:\n",
    "**=> Sentences in bold with an arrow are important conclusions made based on the data**\n"
   ]
  },
  {
   "cell_type": "markdown",
   "metadata": {},
   "source": [
    "## Exploratory data analysis"
   ]
  },
  {
   "cell_type": "markdown",
   "metadata": {},
   "source": [
    "### Importing packages"
   ]
  },
  {
   "cell_type": "code",
   "execution_count": 1,
   "metadata": {},
   "outputs": [],
   "source": [
    "import pandas as pd\n",
    "import numpy as np\n",
    "import matplotlib.pyplot as plt\n",
    "import seaborn as sns\n",
    "\n",
    "from sklearn.model_selection import train_test_split\n",
    "from sklearn.preprocessing import StandardScaler\n",
    "from sklearn.metrics import accuracy_score, precision_score, recall_score, f1_score, confusion_matrix, classification_report\n",
    "from sklearn.tree import DecisionTreeClassifier\n",
    "from xgboost import XGBClassifier\n",
    "from sklearn.ensemble import AdaBoostClassifier\n",
    "\n",
    "import warnings\n",
    "warnings.filterwarnings('ignore')\n",
    "\n",
    "RSEED = 42"
   ]
  },
  {
   "cell_type": "markdown",
   "metadata": {},
   "source": [
    "### Loading the data"
   ]
  },
  {
   "cell_type": "code",
   "execution_count": 2,
   "metadata": {},
   "outputs": [
    {
     "ename": "FileNotFoundError",
     "evalue": "[Errno 2] No such file or directory: 'data/triad.csv'",
     "output_type": "error",
     "traceback": [
      "\u001b[0;31m---------------------------------------------------------------------------\u001b[0m",
      "\u001b[0;31mFileNotFoundError\u001b[0m                         Traceback (most recent call last)",
      "\u001b[1;32m/Users/slwong/neuefische/Take_Me_Home_Challenge/take_me_home.ipynb Cell 7\u001b[0m in \u001b[0;36m<cell line: 1>\u001b[0;34m()\u001b[0m\n\u001b[0;32m----> <a href='vscode-notebook-cell:/Users/slwong/neuefische/Take_Me_Home_Challenge/take_me_home.ipynb#W6sZmlsZQ%3D%3D?line=0'>1</a>\u001b[0m df \u001b[39m=\u001b[39m pd\u001b[39m.\u001b[39;49mread_csv(\u001b[39m'\u001b[39;49m\u001b[39mdata/triad.csv\u001b[39;49m\u001b[39m'\u001b[39;49m)\n",
      "File \u001b[0;32m~/neuefische/Take_Me_Home_Challenge/.venv/lib/python3.9/site-packages/pandas/util/_decorators.py:311\u001b[0m, in \u001b[0;36mdeprecate_nonkeyword_arguments.<locals>.decorate.<locals>.wrapper\u001b[0;34m(*args, **kwargs)\u001b[0m\n\u001b[1;32m    305\u001b[0m \u001b[39mif\u001b[39;00m \u001b[39mlen\u001b[39m(args) \u001b[39m>\u001b[39m num_allow_args:\n\u001b[1;32m    306\u001b[0m     warnings\u001b[39m.\u001b[39mwarn(\n\u001b[1;32m    307\u001b[0m         msg\u001b[39m.\u001b[39mformat(arguments\u001b[39m=\u001b[39marguments),\n\u001b[1;32m    308\u001b[0m         \u001b[39mFutureWarning\u001b[39;00m,\n\u001b[1;32m    309\u001b[0m         stacklevel\u001b[39m=\u001b[39mstacklevel,\n\u001b[1;32m    310\u001b[0m     )\n\u001b[0;32m--> 311\u001b[0m \u001b[39mreturn\u001b[39;00m func(\u001b[39m*\u001b[39;49margs, \u001b[39m*\u001b[39;49m\u001b[39m*\u001b[39;49mkwargs)\n",
      "File \u001b[0;32m~/neuefische/Take_Me_Home_Challenge/.venv/lib/python3.9/site-packages/pandas/io/parsers/readers.py:586\u001b[0m, in \u001b[0;36mread_csv\u001b[0;34m(filepath_or_buffer, sep, delimiter, header, names, index_col, usecols, squeeze, prefix, mangle_dupe_cols, dtype, engine, converters, true_values, false_values, skipinitialspace, skiprows, skipfooter, nrows, na_values, keep_default_na, na_filter, verbose, skip_blank_lines, parse_dates, infer_datetime_format, keep_date_col, date_parser, dayfirst, cache_dates, iterator, chunksize, compression, thousands, decimal, lineterminator, quotechar, quoting, doublequote, escapechar, comment, encoding, encoding_errors, dialect, error_bad_lines, warn_bad_lines, on_bad_lines, delim_whitespace, low_memory, memory_map, float_precision, storage_options)\u001b[0m\n\u001b[1;32m    571\u001b[0m kwds_defaults \u001b[39m=\u001b[39m _refine_defaults_read(\n\u001b[1;32m    572\u001b[0m     dialect,\n\u001b[1;32m    573\u001b[0m     delimiter,\n\u001b[0;32m   (...)\u001b[0m\n\u001b[1;32m    582\u001b[0m     defaults\u001b[39m=\u001b[39m{\u001b[39m\"\u001b[39m\u001b[39mdelimiter\u001b[39m\u001b[39m\"\u001b[39m: \u001b[39m\"\u001b[39m\u001b[39m,\u001b[39m\u001b[39m\"\u001b[39m},\n\u001b[1;32m    583\u001b[0m )\n\u001b[1;32m    584\u001b[0m kwds\u001b[39m.\u001b[39mupdate(kwds_defaults)\n\u001b[0;32m--> 586\u001b[0m \u001b[39mreturn\u001b[39;00m _read(filepath_or_buffer, kwds)\n",
      "File \u001b[0;32m~/neuefische/Take_Me_Home_Challenge/.venv/lib/python3.9/site-packages/pandas/io/parsers/readers.py:482\u001b[0m, in \u001b[0;36m_read\u001b[0;34m(filepath_or_buffer, kwds)\u001b[0m\n\u001b[1;32m    479\u001b[0m _validate_names(kwds\u001b[39m.\u001b[39mget(\u001b[39m\"\u001b[39m\u001b[39mnames\u001b[39m\u001b[39m\"\u001b[39m, \u001b[39mNone\u001b[39;00m))\n\u001b[1;32m    481\u001b[0m \u001b[39m# Create the parser.\u001b[39;00m\n\u001b[0;32m--> 482\u001b[0m parser \u001b[39m=\u001b[39m TextFileReader(filepath_or_buffer, \u001b[39m*\u001b[39;49m\u001b[39m*\u001b[39;49mkwds)\n\u001b[1;32m    484\u001b[0m \u001b[39mif\u001b[39;00m chunksize \u001b[39mor\u001b[39;00m iterator:\n\u001b[1;32m    485\u001b[0m     \u001b[39mreturn\u001b[39;00m parser\n",
      "File \u001b[0;32m~/neuefische/Take_Me_Home_Challenge/.venv/lib/python3.9/site-packages/pandas/io/parsers/readers.py:811\u001b[0m, in \u001b[0;36mTextFileReader.__init__\u001b[0;34m(self, f, engine, **kwds)\u001b[0m\n\u001b[1;32m    808\u001b[0m \u001b[39mif\u001b[39;00m \u001b[39m\"\u001b[39m\u001b[39mhas_index_names\u001b[39m\u001b[39m\"\u001b[39m \u001b[39min\u001b[39;00m kwds:\n\u001b[1;32m    809\u001b[0m     \u001b[39mself\u001b[39m\u001b[39m.\u001b[39moptions[\u001b[39m\"\u001b[39m\u001b[39mhas_index_names\u001b[39m\u001b[39m\"\u001b[39m] \u001b[39m=\u001b[39m kwds[\u001b[39m\"\u001b[39m\u001b[39mhas_index_names\u001b[39m\u001b[39m\"\u001b[39m]\n\u001b[0;32m--> 811\u001b[0m \u001b[39mself\u001b[39m\u001b[39m.\u001b[39m_engine \u001b[39m=\u001b[39m \u001b[39mself\u001b[39;49m\u001b[39m.\u001b[39;49m_make_engine(\u001b[39mself\u001b[39;49m\u001b[39m.\u001b[39;49mengine)\n",
      "File \u001b[0;32m~/neuefische/Take_Me_Home_Challenge/.venv/lib/python3.9/site-packages/pandas/io/parsers/readers.py:1040\u001b[0m, in \u001b[0;36mTextFileReader._make_engine\u001b[0;34m(self, engine)\u001b[0m\n\u001b[1;32m   1036\u001b[0m     \u001b[39mraise\u001b[39;00m \u001b[39mValueError\u001b[39;00m(\n\u001b[1;32m   1037\u001b[0m         \u001b[39mf\u001b[39m\u001b[39m\"\u001b[39m\u001b[39mUnknown engine: \u001b[39m\u001b[39m{\u001b[39;00mengine\u001b[39m}\u001b[39;00m\u001b[39m (valid options are \u001b[39m\u001b[39m{\u001b[39;00mmapping\u001b[39m.\u001b[39mkeys()\u001b[39m}\u001b[39;00m\u001b[39m)\u001b[39m\u001b[39m\"\u001b[39m\n\u001b[1;32m   1038\u001b[0m     )\n\u001b[1;32m   1039\u001b[0m \u001b[39m# error: Too many arguments for \"ParserBase\"\u001b[39;00m\n\u001b[0;32m-> 1040\u001b[0m \u001b[39mreturn\u001b[39;00m mapping[engine](\u001b[39mself\u001b[39;49m\u001b[39m.\u001b[39;49mf, \u001b[39m*\u001b[39;49m\u001b[39m*\u001b[39;49m\u001b[39mself\u001b[39;49m\u001b[39m.\u001b[39;49moptions)\n",
      "File \u001b[0;32m~/neuefische/Take_Me_Home_Challenge/.venv/lib/python3.9/site-packages/pandas/io/parsers/c_parser_wrapper.py:51\u001b[0m, in \u001b[0;36mCParserWrapper.__init__\u001b[0;34m(self, src, **kwds)\u001b[0m\n\u001b[1;32m     48\u001b[0m kwds[\u001b[39m\"\u001b[39m\u001b[39musecols\u001b[39m\u001b[39m\"\u001b[39m] \u001b[39m=\u001b[39m \u001b[39mself\u001b[39m\u001b[39m.\u001b[39musecols\n\u001b[1;32m     50\u001b[0m \u001b[39m# open handles\u001b[39;00m\n\u001b[0;32m---> 51\u001b[0m \u001b[39mself\u001b[39;49m\u001b[39m.\u001b[39;49m_open_handles(src, kwds)\n\u001b[1;32m     52\u001b[0m \u001b[39massert\u001b[39;00m \u001b[39mself\u001b[39m\u001b[39m.\u001b[39mhandles \u001b[39mis\u001b[39;00m \u001b[39mnot\u001b[39;00m \u001b[39mNone\u001b[39;00m\n\u001b[1;32m     54\u001b[0m \u001b[39m# Have to pass int, would break tests using TextReader directly otherwise :(\u001b[39;00m\n",
      "File \u001b[0;32m~/neuefische/Take_Me_Home_Challenge/.venv/lib/python3.9/site-packages/pandas/io/parsers/base_parser.py:222\u001b[0m, in \u001b[0;36mParserBase._open_handles\u001b[0;34m(self, src, kwds)\u001b[0m\n\u001b[1;32m    218\u001b[0m \u001b[39mdef\u001b[39;00m \u001b[39m_open_handles\u001b[39m(\u001b[39mself\u001b[39m, src: FilePathOrBuffer, kwds: \u001b[39mdict\u001b[39m[\u001b[39mstr\u001b[39m, Any]) \u001b[39m-\u001b[39m\u001b[39m>\u001b[39m \u001b[39mNone\u001b[39;00m:\n\u001b[1;32m    219\u001b[0m     \u001b[39m\"\"\"\u001b[39;00m\n\u001b[1;32m    220\u001b[0m \u001b[39m    Let the readers open IOHandles after they are done with their potential raises.\u001b[39;00m\n\u001b[1;32m    221\u001b[0m \u001b[39m    \"\"\"\u001b[39;00m\n\u001b[0;32m--> 222\u001b[0m     \u001b[39mself\u001b[39m\u001b[39m.\u001b[39mhandles \u001b[39m=\u001b[39m get_handle(\n\u001b[1;32m    223\u001b[0m         src,\n\u001b[1;32m    224\u001b[0m         \u001b[39m\"\u001b[39;49m\u001b[39mr\u001b[39;49m\u001b[39m\"\u001b[39;49m,\n\u001b[1;32m    225\u001b[0m         encoding\u001b[39m=\u001b[39;49mkwds\u001b[39m.\u001b[39;49mget(\u001b[39m\"\u001b[39;49m\u001b[39mencoding\u001b[39;49m\u001b[39m\"\u001b[39;49m, \u001b[39mNone\u001b[39;49;00m),\n\u001b[1;32m    226\u001b[0m         compression\u001b[39m=\u001b[39;49mkwds\u001b[39m.\u001b[39;49mget(\u001b[39m\"\u001b[39;49m\u001b[39mcompression\u001b[39;49m\u001b[39m\"\u001b[39;49m, \u001b[39mNone\u001b[39;49;00m),\n\u001b[1;32m    227\u001b[0m         memory_map\u001b[39m=\u001b[39;49mkwds\u001b[39m.\u001b[39;49mget(\u001b[39m\"\u001b[39;49m\u001b[39mmemory_map\u001b[39;49m\u001b[39m\"\u001b[39;49m, \u001b[39mFalse\u001b[39;49;00m),\n\u001b[1;32m    228\u001b[0m         storage_options\u001b[39m=\u001b[39;49mkwds\u001b[39m.\u001b[39;49mget(\u001b[39m\"\u001b[39;49m\u001b[39mstorage_options\u001b[39;49m\u001b[39m\"\u001b[39;49m, \u001b[39mNone\u001b[39;49;00m),\n\u001b[1;32m    229\u001b[0m         errors\u001b[39m=\u001b[39;49mkwds\u001b[39m.\u001b[39;49mget(\u001b[39m\"\u001b[39;49m\u001b[39mencoding_errors\u001b[39;49m\u001b[39m\"\u001b[39;49m, \u001b[39m\"\u001b[39;49m\u001b[39mstrict\u001b[39;49m\u001b[39m\"\u001b[39;49m),\n\u001b[1;32m    230\u001b[0m     )\n",
      "File \u001b[0;32m~/neuefische/Take_Me_Home_Challenge/.venv/lib/python3.9/site-packages/pandas/io/common.py:702\u001b[0m, in \u001b[0;36mget_handle\u001b[0;34m(path_or_buf, mode, encoding, compression, memory_map, is_text, errors, storage_options)\u001b[0m\n\u001b[1;32m    697\u001b[0m \u001b[39melif\u001b[39;00m \u001b[39misinstance\u001b[39m(handle, \u001b[39mstr\u001b[39m):\n\u001b[1;32m    698\u001b[0m     \u001b[39m# Check whether the filename is to be opened in binary mode.\u001b[39;00m\n\u001b[1;32m    699\u001b[0m     \u001b[39m# Binary mode does not support 'encoding' and 'newline'.\u001b[39;00m\n\u001b[1;32m    700\u001b[0m     \u001b[39mif\u001b[39;00m ioargs\u001b[39m.\u001b[39mencoding \u001b[39mand\u001b[39;00m \u001b[39m\"\u001b[39m\u001b[39mb\u001b[39m\u001b[39m\"\u001b[39m \u001b[39mnot\u001b[39;00m \u001b[39min\u001b[39;00m ioargs\u001b[39m.\u001b[39mmode:\n\u001b[1;32m    701\u001b[0m         \u001b[39m# Encoding\u001b[39;00m\n\u001b[0;32m--> 702\u001b[0m         handle \u001b[39m=\u001b[39m \u001b[39mopen\u001b[39;49m(\n\u001b[1;32m    703\u001b[0m             handle,\n\u001b[1;32m    704\u001b[0m             ioargs\u001b[39m.\u001b[39;49mmode,\n\u001b[1;32m    705\u001b[0m             encoding\u001b[39m=\u001b[39;49mioargs\u001b[39m.\u001b[39;49mencoding,\n\u001b[1;32m    706\u001b[0m             errors\u001b[39m=\u001b[39;49merrors,\n\u001b[1;32m    707\u001b[0m             newline\u001b[39m=\u001b[39;49m\u001b[39m\"\u001b[39;49m\u001b[39m\"\u001b[39;49m,\n\u001b[1;32m    708\u001b[0m         )\n\u001b[1;32m    709\u001b[0m     \u001b[39melse\u001b[39;00m:\n\u001b[1;32m    710\u001b[0m         \u001b[39m# Binary mode\u001b[39;00m\n\u001b[1;32m    711\u001b[0m         handle \u001b[39m=\u001b[39m \u001b[39mopen\u001b[39m(handle, ioargs\u001b[39m.\u001b[39mmode)\n",
      "\u001b[0;31mFileNotFoundError\u001b[0m: [Errno 2] No such file or directory: 'data/triad.csv'"
     ]
    }
   ],
   "source": [
    "df = pd.read_csv('data/data.csv')"
   ]
  },
  {
   "cell_type": "code",
   "execution_count": null,
   "metadata": {},
   "outputs": [
    {
     "data": {
      "text/html": [
       "<div>\n",
       "<style scoped>\n",
       "    .dataframe tbody tr th:only-of-type {\n",
       "        vertical-align: middle;\n",
       "    }\n",
       "\n",
       "    .dataframe tbody tr th {\n",
       "        vertical-align: top;\n",
       "    }\n",
       "\n",
       "    .dataframe thead th {\n",
       "        text-align: right;\n",
       "    }\n",
       "</style>\n",
       "<table border=\"1\" class=\"dataframe\">\n",
       "  <thead>\n",
       "    <tr style=\"text-align: right;\">\n",
       "      <th></th>\n",
       "      <th>sex</th>\n",
       "      <th>lang</th>\n",
       "      <th>country</th>\n",
       "      <th>age</th>\n",
       "      <th>hours_studied</th>\n",
       "      <th>dojo_class</th>\n",
       "      <th>test_prep</th>\n",
       "      <th>pass</th>\n",
       "      <th>notes</th>\n",
       "    </tr>\n",
       "  </thead>\n",
       "  <tbody>\n",
       "    <tr>\n",
       "      <th>0</th>\n",
       "      <td>Male</td>\n",
       "      <td>Japanese</td>\n",
       "      <td>Japan</td>\n",
       "      <td>20</td>\n",
       "      <td>10.578594</td>\n",
       "      <td>True</td>\n",
       "      <td>False</td>\n",
       "      <td>True</td>\n",
       "      <td>NaN</td>\n",
       "    </tr>\n",
       "    <tr>\n",
       "      <th>1</th>\n",
       "      <td>Male</td>\n",
       "      <td>Japanese</td>\n",
       "      <td>Japan</td>\n",
       "      <td>22</td>\n",
       "      <td>7.814520</td>\n",
       "      <td>False</td>\n",
       "      <td>False</td>\n",
       "      <td>True</td>\n",
       "      <td>NaN</td>\n",
       "    </tr>\n",
       "    <tr>\n",
       "      <th>2</th>\n",
       "      <td>Male</td>\n",
       "      <td>Japanese</td>\n",
       "      <td>Japan</td>\n",
       "      <td>27</td>\n",
       "      <td>4.213682</td>\n",
       "      <td>False</td>\n",
       "      <td>False</td>\n",
       "      <td>True</td>\n",
       "      <td>NaN</td>\n",
       "    </tr>\n",
       "    <tr>\n",
       "      <th>3</th>\n",
       "      <td>Male</td>\n",
       "      <td>Japanese</td>\n",
       "      <td>Japan</td>\n",
       "      <td>24</td>\n",
       "      <td>NaN</td>\n",
       "      <td>False</td>\n",
       "      <td>False</td>\n",
       "      <td>True</td>\n",
       "      <td>NaN</td>\n",
       "    </tr>\n",
       "    <tr>\n",
       "      <th>4</th>\n",
       "      <td>Female</td>\n",
       "      <td>Japanese</td>\n",
       "      <td>Japan</td>\n",
       "      <td>21</td>\n",
       "      <td>3.248907</td>\n",
       "      <td>False</td>\n",
       "      <td>False</td>\n",
       "      <td>False</td>\n",
       "      <td>NaN</td>\n",
       "    </tr>\n",
       "  </tbody>\n",
       "</table>\n",
       "</div>"
      ],
      "text/plain": [
       "      sex      lang country  age  hours_studied  dojo_class  test_prep   pass  \\\n",
       "0    Male  Japanese   Japan   20      10.578594        True      False   True   \n",
       "1    Male  Japanese   Japan   22       7.814520       False      False   True   \n",
       "2    Male  Japanese   Japan   27       4.213682       False      False   True   \n",
       "3    Male  Japanese   Japan   24            NaN       False      False   True   \n",
       "4  Female  Japanese   Japan   21       3.248907       False      False  False   \n",
       "\n",
       "  notes  \n",
       "0   NaN  \n",
       "1   NaN  \n",
       "2   NaN  \n",
       "3   NaN  \n",
       "4   NaN  "
      ]
     },
     "execution_count": 4,
     "metadata": {},
     "output_type": "execute_result"
    }
   ],
   "source": [
    "# Examine the first 5 rows of the data\n",
    "df.head()"
   ]
  },
  {
   "cell_type": "markdown",
   "metadata": {},
   "source": [
    "### Examining the number of observations and features:"
   ]
  },
  {
   "cell_type": "code",
   "execution_count": null,
   "metadata": {},
   "outputs": [
    {
     "data": {
      "text/plain": [
       "(5000, 9)"
      ]
     },
     "execution_count": 5,
     "metadata": {},
     "output_type": "execute_result"
    }
   ],
   "source": [
    "# Examine the shape of the DataFrame\n",
    "df.shape"
   ]
  },
  {
   "cell_type": "markdown",
   "metadata": {},
   "source": [
    "There are **5000** rows (observations) and **9** columns (features)."
   ]
  },
  {
   "cell_type": "markdown",
   "metadata": {},
   "source": [
    "### Summary statistics"
   ]
  },
  {
   "cell_type": "code",
   "execution_count": null,
   "metadata": {},
   "outputs": [
    {
     "data": {
      "text/html": [
       "<div>\n",
       "<style scoped>\n",
       "    .dataframe tbody tr th:only-of-type {\n",
       "        vertical-align: middle;\n",
       "    }\n",
       "\n",
       "    .dataframe tbody tr th {\n",
       "        vertical-align: top;\n",
       "    }\n",
       "\n",
       "    .dataframe thead th {\n",
       "        text-align: right;\n",
       "    }\n",
       "</style>\n",
       "<table border=\"1\" class=\"dataframe\">\n",
       "  <thead>\n",
       "    <tr style=\"text-align: right;\">\n",
       "      <th></th>\n",
       "      <th>age</th>\n",
       "      <th>hours_studied</th>\n",
       "    </tr>\n",
       "  </thead>\n",
       "  <tbody>\n",
       "    <tr>\n",
       "      <th>count</th>\n",
       "      <td>5000.000000</td>\n",
       "      <td>3018.000000</td>\n",
       "    </tr>\n",
       "    <tr>\n",
       "      <th>mean</th>\n",
       "      <td>25.873400</td>\n",
       "      <td>4.964076</td>\n",
       "    </tr>\n",
       "    <tr>\n",
       "      <th>std</th>\n",
       "      <td>7.349978</td>\n",
       "      <td>3.203037</td>\n",
       "    </tr>\n",
       "    <tr>\n",
       "      <th>min</th>\n",
       "      <td>18.000000</td>\n",
       "      <td>0.139203</td>\n",
       "    </tr>\n",
       "    <tr>\n",
       "      <th>25%</th>\n",
       "      <td>20.000000</td>\n",
       "      <td>2.555823</td>\n",
       "    </tr>\n",
       "    <tr>\n",
       "      <th>50%</th>\n",
       "      <td>24.000000</td>\n",
       "      <td>4.247235</td>\n",
       "    </tr>\n",
       "    <tr>\n",
       "      <th>75%</th>\n",
       "      <td>30.000000</td>\n",
       "      <td>6.660737</td>\n",
       "    </tr>\n",
       "    <tr>\n",
       "      <th>max</th>\n",
       "      <td>50.000000</td>\n",
       "      <td>24.259314</td>\n",
       "    </tr>\n",
       "  </tbody>\n",
       "</table>\n",
       "</div>"
      ],
      "text/plain": [
       "               age  hours_studied\n",
       "count  5000.000000    3018.000000\n",
       "mean     25.873400       4.964076\n",
       "std       7.349978       3.203037\n",
       "min      18.000000       0.139203\n",
       "25%      20.000000       2.555823\n",
       "50%      24.000000       4.247235\n",
       "75%      30.000000       6.660737\n",
       "max      50.000000      24.259314"
      ]
     },
     "execution_count": 6,
     "metadata": {},
     "output_type": "execute_result"
    }
   ],
   "source": [
    "df.describe()"
   ]
  },
  {
   "cell_type": "markdown",
   "metadata": {},
   "source": [
    "### Converting data types"
   ]
  },
  {
   "cell_type": "code",
   "execution_count": null,
   "metadata": {},
   "outputs": [],
   "source": [
    "df['pass'] = [1 if i == True else 0 for i in df['pass']]"
   ]
  },
  {
   "cell_type": "markdown",
   "metadata": {},
   "source": [
    "### Examining the number of null values"
   ]
  },
  {
   "cell_type": "code",
   "execution_count": null,
   "metadata": {},
   "outputs": [
    {
     "name": "stdout",
     "output_type": "stream",
     "text": [
      "<class 'pandas.core.frame.DataFrame'>\n",
      "RangeIndex: 5000 entries, 0 to 4999\n",
      "Data columns (total 9 columns):\n",
      " #   Column         Non-Null Count  Dtype  \n",
      "---  ------         --------------  -----  \n",
      " 0   sex            5000 non-null   object \n",
      " 1   lang           5000 non-null   object \n",
      " 2   country        5000 non-null   object \n",
      " 3   age            5000 non-null   int64  \n",
      " 4   hours_studied  3018 non-null   float64\n",
      " 5   dojo_class     5000 non-null   bool   \n",
      " 6   test_prep      5000 non-null   bool   \n",
      " 7   pass           5000 non-null   int64  \n",
      " 8   notes          772 non-null    object \n",
      "dtypes: bool(2), float64(1), int64(2), object(4)\n",
      "memory usage: 283.3+ KB\n"
     ]
    }
   ],
   "source": [
    "df.info()"
   ]
  },
  {
   "cell_type": "code",
   "execution_count": null,
   "metadata": {},
   "outputs": [
    {
     "data": {
      "text/plain": [
       "sex                 0\n",
       "lang                0\n",
       "country             0\n",
       "age                 0\n",
       "hours_studied    1982\n",
       "dojo_class          0\n",
       "test_prep           0\n",
       "pass                0\n",
       "notes            4228\n",
       "dtype: int64"
      ]
     },
     "execution_count": 9,
     "metadata": {},
     "output_type": "execute_result"
    }
   ],
   "source": [
    "df.isna().sum()"
   ]
  },
  {
   "cell_type": "markdown",
   "metadata": {},
   "source": [
    "```hours_studied``` has **1982** null values and ```notes``` has **4228** null values. ```notes``` has mostly null or information that does not have predictive value, so we drop the column:"
   ]
  },
  {
   "cell_type": "code",
   "execution_count": null,
   "metadata": {},
   "outputs": [],
   "source": [
    "df.drop('notes', axis=1, inplace=True) "
   ]
  },
  {
   "cell_type": "markdown",
   "metadata": {},
   "source": [
    "```hours_studied``` has a lot of null values, so we will examine these null values in more detail:"
   ]
  },
  {
   "cell_type": "code",
   "execution_count": null,
   "metadata": {},
   "outputs": [
    {
     "data": {
      "text/plain": [
       "sex                 0\n",
       "lang                0\n",
       "country             0\n",
       "age                 0\n",
       "hours_studied    1982\n",
       "dojo_class          0\n",
       "test_prep           0\n",
       "pass                0\n",
       "dtype: int64"
      ]
     },
     "execution_count": 11,
     "metadata": {},
     "output_type": "execute_result"
    }
   ],
   "source": [
    "df.isna().sum()"
   ]
  },
  {
   "cell_type": "code",
   "execution_count": null,
   "metadata": {},
   "outputs": [
    {
     "data": {
      "text/html": [
       "<div>\n",
       "<style scoped>\n",
       "    .dataframe tbody tr th:only-of-type {\n",
       "        vertical-align: middle;\n",
       "    }\n",
       "\n",
       "    .dataframe tbody tr th {\n",
       "        vertical-align: top;\n",
       "    }\n",
       "\n",
       "    .dataframe thead th {\n",
       "        text-align: right;\n",
       "    }\n",
       "</style>\n",
       "<table border=\"1\" class=\"dataframe\">\n",
       "  <thead>\n",
       "    <tr style=\"text-align: right;\">\n",
       "      <th></th>\n",
       "      <th>sex</th>\n",
       "      <th>lang</th>\n",
       "      <th>country</th>\n",
       "      <th>age</th>\n",
       "      <th>hours_studied</th>\n",
       "      <th>dojo_class</th>\n",
       "      <th>test_prep</th>\n",
       "      <th>pass</th>\n",
       "    </tr>\n",
       "  </thead>\n",
       "  <tbody>\n",
       "    <tr>\n",
       "      <th>3</th>\n",
       "      <td>Male</td>\n",
       "      <td>Japanese</td>\n",
       "      <td>Japan</td>\n",
       "      <td>24</td>\n",
       "      <td>NaN</td>\n",
       "      <td>False</td>\n",
       "      <td>False</td>\n",
       "      <td>1</td>\n",
       "    </tr>\n",
       "    <tr>\n",
       "      <th>5</th>\n",
       "      <td>Male</td>\n",
       "      <td>Japanese</td>\n",
       "      <td>Japan</td>\n",
       "      <td>18</td>\n",
       "      <td>NaN</td>\n",
       "      <td>False</td>\n",
       "      <td>False</td>\n",
       "      <td>1</td>\n",
       "    </tr>\n",
       "    <tr>\n",
       "      <th>8</th>\n",
       "      <td>Male</td>\n",
       "      <td>Japanese</td>\n",
       "      <td>Japan</td>\n",
       "      <td>24</td>\n",
       "      <td>NaN</td>\n",
       "      <td>False</td>\n",
       "      <td>False</td>\n",
       "      <td>0</td>\n",
       "    </tr>\n",
       "    <tr>\n",
       "      <th>11</th>\n",
       "      <td>Female</td>\n",
       "      <td>Japanese</td>\n",
       "      <td>Japan</td>\n",
       "      <td>29</td>\n",
       "      <td>NaN</td>\n",
       "      <td>False</td>\n",
       "      <td>False</td>\n",
       "      <td>1</td>\n",
       "    </tr>\n",
       "    <tr>\n",
       "      <th>19</th>\n",
       "      <td>Male</td>\n",
       "      <td>Japanese</td>\n",
       "      <td>Japan</td>\n",
       "      <td>34</td>\n",
       "      <td>NaN</td>\n",
       "      <td>False</td>\n",
       "      <td>False</td>\n",
       "      <td>1</td>\n",
       "    </tr>\n",
       "    <tr>\n",
       "      <th>...</th>\n",
       "      <td>...</td>\n",
       "      <td>...</td>\n",
       "      <td>...</td>\n",
       "      <td>...</td>\n",
       "      <td>...</td>\n",
       "      <td>...</td>\n",
       "      <td>...</td>\n",
       "      <td>...</td>\n",
       "    </tr>\n",
       "    <tr>\n",
       "      <th>4967</th>\n",
       "      <td>Male</td>\n",
       "      <td>Japanese</td>\n",
       "      <td>Japan</td>\n",
       "      <td>18</td>\n",
       "      <td>NaN</td>\n",
       "      <td>False</td>\n",
       "      <td>False</td>\n",
       "      <td>1</td>\n",
       "    </tr>\n",
       "    <tr>\n",
       "      <th>4968</th>\n",
       "      <td>Male</td>\n",
       "      <td>Japanese</td>\n",
       "      <td>Japan</td>\n",
       "      <td>31</td>\n",
       "      <td>NaN</td>\n",
       "      <td>False</td>\n",
       "      <td>False</td>\n",
       "      <td>0</td>\n",
       "    </tr>\n",
       "    <tr>\n",
       "      <th>4969</th>\n",
       "      <td>Male</td>\n",
       "      <td>Japanese</td>\n",
       "      <td>Japan</td>\n",
       "      <td>24</td>\n",
       "      <td>NaN</td>\n",
       "      <td>False</td>\n",
       "      <td>False</td>\n",
       "      <td>1</td>\n",
       "    </tr>\n",
       "    <tr>\n",
       "      <th>4982</th>\n",
       "      <td>Male</td>\n",
       "      <td>Japanese</td>\n",
       "      <td>Japan</td>\n",
       "      <td>31</td>\n",
       "      <td>NaN</td>\n",
       "      <td>False</td>\n",
       "      <td>False</td>\n",
       "      <td>1</td>\n",
       "    </tr>\n",
       "    <tr>\n",
       "      <th>4989</th>\n",
       "      <td>Male</td>\n",
       "      <td>Japanese</td>\n",
       "      <td>Japan</td>\n",
       "      <td>30</td>\n",
       "      <td>NaN</td>\n",
       "      <td>False</td>\n",
       "      <td>False</td>\n",
       "      <td>0</td>\n",
       "    </tr>\n",
       "  </tbody>\n",
       "</table>\n",
       "<p>1116 rows × 8 columns</p>\n",
       "</div>"
      ],
      "text/plain": [
       "         sex      lang country  age  hours_studied  dojo_class  test_prep  \\\n",
       "3       Male  Japanese   Japan   24            NaN       False      False   \n",
       "5       Male  Japanese   Japan   18            NaN       False      False   \n",
       "8       Male  Japanese   Japan   24            NaN       False      False   \n",
       "11    Female  Japanese   Japan   29            NaN       False      False   \n",
       "19      Male  Japanese   Japan   34            NaN       False      False   \n",
       "...      ...       ...     ...  ...            ...         ...        ...   \n",
       "4967    Male  Japanese   Japan   18            NaN       False      False   \n",
       "4968    Male  Japanese   Japan   31            NaN       False      False   \n",
       "4969    Male  Japanese   Japan   24            NaN       False      False   \n",
       "4982    Male  Japanese   Japan   31            NaN       False      False   \n",
       "4989    Male  Japanese   Japan   30            NaN       False      False   \n",
       "\n",
       "      pass  \n",
       "3        1  \n",
       "5        1  \n",
       "8        0  \n",
       "11       1  \n",
       "19       1  \n",
       "...    ...  \n",
       "4967     1  \n",
       "4968     0  \n",
       "4969     1  \n",
       "4982     1  \n",
       "4989     0  \n",
       "\n",
       "[1116 rows x 8 columns]"
      ]
     },
     "execution_count": 12,
     "metadata": {},
     "output_type": "execute_result"
    }
   ],
   "source": [
    "df[df['hours_studied'].isna() & (df['dojo_class'] == False) & (df['test_prep'] == False)]"
   ]
  },
  {
   "cell_type": "markdown",
   "metadata": {},
   "source": [
    "There are **1116** students who did not take the Dojo class, did not do test prep and have null values for ```hours_studied```. This is plausible that their null values are actually 0. It is likely that they did not study or did any preparation at all before taking the test. We set the null values for these cases to be zero:"
   ]
  },
  {
   "cell_type": "code",
   "execution_count": null,
   "metadata": {},
   "outputs": [],
   "source": [
    "na_index = df[df['hours_studied'].isna() & (df['dojo_class'] == False) & (df['test_prep'] == False)].index\n",
    "df.loc[na_index,'hours_studied'] = 0"
   ]
  },
  {
   "cell_type": "markdown",
   "metadata": {},
   "source": [
    "Checking to see how many null values are left:"
   ]
  },
  {
   "cell_type": "code",
   "execution_count": null,
   "metadata": {},
   "outputs": [
    {
     "data": {
      "text/plain": [
       "sex                0\n",
       "lang               0\n",
       "country            0\n",
       "age                0\n",
       "hours_studied    866\n",
       "dojo_class         0\n",
       "test_prep          0\n",
       "pass               0\n",
       "dtype: int64"
      ]
     },
     "execution_count": 14,
     "metadata": {},
     "output_type": "execute_result"
    }
   ],
   "source": [
    "df.isna().sum()"
   ]
  },
  {
   "cell_type": "markdown",
   "metadata": {},
   "source": [
    "There are still **866** null values for ```hours_studied```, we chose to impute by the median of ```hours_studied``` by sex. "
   ]
  },
  {
   "cell_type": "code",
   "execution_count": null,
   "metadata": {},
   "outputs": [],
   "source": [
    "hours_studied_mean = df.groupby('sex')['hours_studied'].mean()\n",
    "mask = df['hours_studied'].isnull()\n",
    "df.loc[mask, 'hours_studied'] = df.loc[mask, 'sex'].map({'Male': hours_studied_mean['Male'], 'Female': hours_studied_mean['Female']})"
   ]
  },
  {
   "cell_type": "markdown",
   "metadata": {},
   "source": [
    "Checking to see if there are any more null values:"
   ]
  },
  {
   "cell_type": "code",
   "execution_count": null,
   "metadata": {},
   "outputs": [
    {
     "data": {
      "text/plain": [
       "sex              0\n",
       "lang             0\n",
       "country          0\n",
       "age              0\n",
       "hours_studied    0\n",
       "dojo_class       0\n",
       "test_prep        0\n",
       "pass             0\n",
       "dtype: int64"
      ]
     },
     "execution_count": 16,
     "metadata": {},
     "output_type": "execute_result"
    }
   ],
   "source": [
    "df.isna().sum()"
   ]
  },
  {
   "cell_type": "code",
   "execution_count": null,
   "metadata": {},
   "outputs": [
    {
     "data": {
      "text/html": [
       "<div>\n",
       "<style scoped>\n",
       "    .dataframe tbody tr th:only-of-type {\n",
       "        vertical-align: middle;\n",
       "    }\n",
       "\n",
       "    .dataframe tbody tr th {\n",
       "        vertical-align: top;\n",
       "    }\n",
       "\n",
       "    .dataframe thead th {\n",
       "        text-align: right;\n",
       "    }\n",
       "</style>\n",
       "<table border=\"1\" class=\"dataframe\">\n",
       "  <thead>\n",
       "    <tr style=\"text-align: right;\">\n",
       "      <th></th>\n",
       "      <th>sex</th>\n",
       "      <th>lang</th>\n",
       "      <th>country</th>\n",
       "      <th>age</th>\n",
       "      <th>hours_studied</th>\n",
       "      <th>dojo_class</th>\n",
       "      <th>test_prep</th>\n",
       "      <th>pass</th>\n",
       "    </tr>\n",
       "  </thead>\n",
       "  <tbody>\n",
       "  </tbody>\n",
       "</table>\n",
       "</div>"
      ],
      "text/plain": [
       "Empty DataFrame\n",
       "Columns: [sex, lang, country, age, hours_studied, dojo_class, test_prep, pass]\n",
       "Index: []"
      ]
     },
     "execution_count": 17,
     "metadata": {},
     "output_type": "execute_result"
    }
   ],
   "source": [
    "df[df['hours_studied'].isna()]"
   ]
  },
  {
   "cell_type": "code",
   "execution_count": null,
   "metadata": {},
   "outputs": [],
   "source": [
    "age_bins = [17.9, 20, 25, 30, 35, 40, 45, 50.1]\n",
    "df['age_bin'] = pd.cut(df['age'], bins=age_bins)\n",
    "df_median = df.groupby(['sex','age_bin'])['hours_studied'].median().reset_index()"
   ]
  },
  {
   "cell_type": "code",
   "execution_count": null,
   "metadata": {},
   "outputs": [
    {
     "data": {
      "text/html": [
       "<div>\n",
       "<style scoped>\n",
       "    .dataframe tbody tr th:only-of-type {\n",
       "        vertical-align: middle;\n",
       "    }\n",
       "\n",
       "    .dataframe tbody tr th {\n",
       "        vertical-align: top;\n",
       "    }\n",
       "\n",
       "    .dataframe thead th {\n",
       "        text-align: right;\n",
       "    }\n",
       "</style>\n",
       "<table border=\"1\" class=\"dataframe\">\n",
       "  <thead>\n",
       "    <tr style=\"text-align: right;\">\n",
       "      <th></th>\n",
       "      <th>sex</th>\n",
       "      <th>age_bin</th>\n",
       "      <th>hours_studied</th>\n",
       "    </tr>\n",
       "  </thead>\n",
       "  <tbody>\n",
       "    <tr>\n",
       "      <th>0</th>\n",
       "      <td>Female</td>\n",
       "      <td>(17.9, 20.0]</td>\n",
       "      <td>3.598862</td>\n",
       "    </tr>\n",
       "    <tr>\n",
       "      <th>1</th>\n",
       "      <td>Female</td>\n",
       "      <td>(20.0, 25.0]</td>\n",
       "      <td>3.598862</td>\n",
       "    </tr>\n",
       "    <tr>\n",
       "      <th>2</th>\n",
       "      <td>Female</td>\n",
       "      <td>(25.0, 30.0]</td>\n",
       "      <td>3.263536</td>\n",
       "    </tr>\n",
       "    <tr>\n",
       "      <th>3</th>\n",
       "      <td>Female</td>\n",
       "      <td>(30.0, 35.0]</td>\n",
       "      <td>3.598862</td>\n",
       "    </tr>\n",
       "    <tr>\n",
       "      <th>4</th>\n",
       "      <td>Female</td>\n",
       "      <td>(35.0, 40.0]</td>\n",
       "      <td>3.598862</td>\n",
       "    </tr>\n",
       "    <tr>\n",
       "      <th>5</th>\n",
       "      <td>Female</td>\n",
       "      <td>(40.0, 45.0]</td>\n",
       "      <td>3.006361</td>\n",
       "    </tr>\n",
       "    <tr>\n",
       "      <th>6</th>\n",
       "      <td>Female</td>\n",
       "      <td>(45.0, 50.1]</td>\n",
       "      <td>3.012287</td>\n",
       "    </tr>\n",
       "    <tr>\n",
       "      <th>7</th>\n",
       "      <td>Male</td>\n",
       "      <td>(17.9, 20.0]</td>\n",
       "      <td>3.632745</td>\n",
       "    </tr>\n",
       "    <tr>\n",
       "      <th>8</th>\n",
       "      <td>Male</td>\n",
       "      <td>(20.0, 25.0]</td>\n",
       "      <td>3.632745</td>\n",
       "    </tr>\n",
       "    <tr>\n",
       "      <th>9</th>\n",
       "      <td>Male</td>\n",
       "      <td>(25.0, 30.0]</td>\n",
       "      <td>3.632745</td>\n",
       "    </tr>\n",
       "    <tr>\n",
       "      <th>10</th>\n",
       "      <td>Male</td>\n",
       "      <td>(30.0, 35.0]</td>\n",
       "      <td>3.632745</td>\n",
       "    </tr>\n",
       "    <tr>\n",
       "      <th>11</th>\n",
       "      <td>Male</td>\n",
       "      <td>(35.0, 40.0]</td>\n",
       "      <td>3.632745</td>\n",
       "    </tr>\n",
       "    <tr>\n",
       "      <th>12</th>\n",
       "      <td>Male</td>\n",
       "      <td>(40.0, 45.0]</td>\n",
       "      <td>3.632745</td>\n",
       "    </tr>\n",
       "    <tr>\n",
       "      <th>13</th>\n",
       "      <td>Male</td>\n",
       "      <td>(45.0, 50.1]</td>\n",
       "      <td>3.632745</td>\n",
       "    </tr>\n",
       "  </tbody>\n",
       "</table>\n",
       "</div>"
      ],
      "text/plain": [
       "       sex       age_bin  hours_studied\n",
       "0   Female  (17.9, 20.0]       3.598862\n",
       "1   Female  (20.0, 25.0]       3.598862\n",
       "2   Female  (25.0, 30.0]       3.263536\n",
       "3   Female  (30.0, 35.0]       3.598862\n",
       "4   Female  (35.0, 40.0]       3.598862\n",
       "5   Female  (40.0, 45.0]       3.006361\n",
       "6   Female  (45.0, 50.1]       3.012287\n",
       "7     Male  (17.9, 20.0]       3.632745\n",
       "8     Male  (20.0, 25.0]       3.632745\n",
       "9     Male  (25.0, 30.0]       3.632745\n",
       "10    Male  (30.0, 35.0]       3.632745\n",
       "11    Male  (35.0, 40.0]       3.632745\n",
       "12    Male  (40.0, 45.0]       3.632745\n",
       "13    Male  (45.0, 50.1]       3.632745"
      ]
     },
     "execution_count": 40,
     "metadata": {},
     "output_type": "execute_result"
    }
   ],
   "source": [
    "df_median"
   ]
  },
  {
   "cell_type": "markdown",
   "metadata": {},
   "source": [
    "## Part 1. The demographic details of people most likely to pass the test"
   ]
  },
  {
   "cell_type": "markdown",
   "metadata": {},
   "source": [
    "We examined the demographics of the students to passed based on the sex, language, country, age and hours studied."
   ]
  },
  {
   "cell_type": "markdown",
   "metadata": {},
   "source": [
    "### Overall pass rate for all students"
   ]
  },
  {
   "cell_type": "markdown",
   "metadata": {},
   "source": [
    "As a baseline, we first examine the pass rate of all students that took the test."
   ]
  },
  {
   "cell_type": "code",
   "execution_count": null,
   "metadata": {},
   "outputs": [
    {
     "data": {
      "image/png": "[encoded data removed]",
      "text/plain": [
       "<Figure size 432x288 with 1 Axes>"
      ]
     },
     "metadata": {
      "needs_background": "light"
     },
     "output_type": "display_data"
    }
   ],
   "source": [
    "df['pass'].value_counts(normalize=True).loc[[1, 0]].mul(100).plot(kind='bar', color=['#639c71', '#b35f60'])\n",
    "plt.xticks([0, 1], [\"Pass\", \"Fail\"], rotation=0)\n",
    "plt.ylabel('Percent (%)', fontsize=14)\n",
    "plt.xlabel('Outcome')\n",
    "passval = round(df['pass'].value_counts(normalize=True).loc[[1, 0]].mul(100)[1],2)\n",
    "failval = round(df['pass'].value_counts(normalize=True).loc[[1, 0]].mul(100)[0],2)\n",
    "plt.text(-0.1, passval+0.6, str(passval)+\"%\", fontsize=12)\n",
    "plt.text(0.9, failval+0.6, str(failval)+\"%\", fontsize=12)\n",
    "plt.ylim((0,60))\n",
    "plt.xlabel(\"\")\n",
    "plt.xticks(fontsize=14)\n",
    "plt.title('Pass/fail rate for all students', fontsize=14)\n",
    "plt.show();"
   ]
  },
  {
   "cell_type": "markdown",
   "metadata": {},
   "source": [
    "**=> The overall pass rate of all students is 46.7%**."
   ]
  },
  {
   "cell_type": "markdown",
   "metadata": {},
   "source": [
    "Since we are interested the demographics of the students who passed the test, we filter for the students who passed the test as follows:"
   ]
  },
  {
   "cell_type": "code",
   "execution_count": null,
   "metadata": {},
   "outputs": [],
   "source": [
    "# DataFrame of students who passed the test\n",
    "df_pass = df[df['pass'] == 1]   \n",
    "\n",
    "# DataFrame of students who failed the test\n",
    "df_fail = df[df['pass'] == 0]"
   ]
  },
  {
   "cell_type": "markdown",
   "metadata": {},
   "source": [
    "### Distribution of the sex of all students"
   ]
  },
  {
   "cell_type": "code",
   "execution_count": null,
   "metadata": {},
   "outputs": [
    {
     "data": {
      "image/png": "[encoded data removed]",
      "text/plain": [
       "<Figure size 432x288 with 1 Axes>"
      ]
     },
     "metadata": {
      "needs_background": "light"
     },
     "output_type": "display_data"
    }
   ],
   "source": [
    "# Plot the number of male vs female students\n",
    "sns.countplot(data=df, x='sex')\n",
    "plt.title('Number of male vs female students', fontsize=14)\n",
    "plt.xlabel(\"Sex\", fontsize=14)\n",
    "plt.xticks(fontsize=14)\n",
    "plt.ylabel(\"Numer of students\", fontsize=14)\n",
    "plt.show()"
   ]
  },
  {
   "cell_type": "markdown",
   "metadata": {},
   "source": [
    "Overall, almost 3 times more males take the test compared to females. However, we can also examine the pass rate for males vs females."
   ]
  },
  {
   "cell_type": "code",
   "execution_count": null,
   "metadata": {},
   "outputs": [
    {
     "data": {
      "image/png": "[encoded data removed]",
      "text/plain": [
       "<Figure size 388.8x288 with 1 Axes>"
      ]
     },
     "metadata": {
      "needs_background": "light"
     },
     "output_type": "display_data"
    }
   ],
   "source": [
    "df_plot = df.groupby('sex')['pass'].value_counts(normalize=True).mul(100).rename('percent').reset_index()\n",
    "df_plot = df_plot[df_plot['pass'] == 1]\n",
    "g = sns.catplot(x=\"sex\", y=\"percent\", data=df_plot, kind='bar', height=4, aspect=1.35)\n",
    "sns.despine(fig=None, ax=None, top=False, right=False, left=False, bottom=False, offset=None, trim=False)\n",
    "plt.title('Pass rate by sex', fontsize=14)\n",
    "plt.xticks(fontsize=14)\n",
    "plt.xlabel('Sex',fontsize=14)\n",
    "plt.ylabel('Percent (%)',fontsize=14)\n",
    "plt.show();"
   ]
  },
  {
   "cell_type": "markdown",
   "metadata": {},
   "source": [
    "The above plot shows that females have a much lower pass rate compared to males."
   ]
  },
  {
   "cell_type": "markdown",
   "metadata": {},
   "source": [
    "**=> Females have a 28% pass rate but males have a 53% pass rate.**"
   ]
  },
  {
   "cell_type": "markdown",
   "metadata": {},
   "source": [
    "### Language of students who passed"
   ]
  },
  {
   "cell_type": "code",
   "execution_count": null,
   "metadata": {},
   "outputs": [
    {
     "data": {
      "image/png": "[encoded data removed]",
      "text/plain": [
       "<Figure size 504x360 with 1 Axes>"
      ]
     },
     "metadata": {
      "needs_background": "light"
     },
     "output_type": "display_data"
    }
   ],
   "source": [
    "# Plot the number of languages\n",
    "fig, ax=plt.subplots(figsize=(7,5))\n",
    "sns.countplot(data=df_pass, x='lang', order = df['lang'].value_counts().index)\n",
    "plt.title('Number of students by language',fontsize=14)\n",
    "plt.xlabel('Language',fontsize=14)\n",
    "plt.xticks(fontsize=14)\n",
    "plt.ylabel('Number of students',fontsize=14)\n",
    "plt.show()"
   ]
  },
  {
   "cell_type": "markdown",
   "metadata": {},
   "source": [
    "Japanese was most common language. However, since these are only raw count values, we can look at the pass rates for each language."
   ]
  },
  {
   "cell_type": "code",
   "execution_count": null,
   "metadata": {},
   "outputs": [
    {
     "data": {
      "image/png": "[encoded data removed]",
      "text/plain": [
       "<Figure size 432x288 with 1 Axes>"
      ]
     },
     "metadata": {
      "needs_background": "light"
     },
     "output_type": "display_data"
    }
   ],
   "source": [
    "df_plot = df.groupby('lang')['pass'].value_counts(normalize=True).mul(100).rename('percent').reset_index()\n",
    "df_plot = df_plot.sort_values(['pass','percent'], ascending=False).reset_index(drop=True)\n",
    "df_plot = df_plot[df_plot['pass'] == 1]\n",
    "g = sns.catplot(x=\"lang\", y=\"percent\", data=df_plot, kind='bar', height=4, aspect=1.5, order=df_plot['lang'].to_list()).set(title='Pass rate of different languages')\n",
    "sns.despine(fig=None, ax=None, top=False, right=False, left=False, bottom=False, offset=None, trim=False)\n",
    "plt.title(\"Pass rate for different languages\", fontsize=14)\n",
    "plt.xlabel(\"Language\", fontsize=14)\n",
    "plt.ylabel(\"Percent (%)\", fontsize=14)\n",
    "plt.show()"
   ]
  },
  {
   "cell_type": "markdown",
   "metadata": {},
   "source": [
    "**=> French had the highest pass rate with 49.2%. Second was English.**"
   ]
  },
  {
   "cell_type": "markdown",
   "metadata": {},
   "source": [
    "### Number of students who passed by country"
   ]
  },
  {
   "cell_type": "code",
   "execution_count": null,
   "metadata": {},
   "outputs": [
    {
     "data": {
      "image/png": "[encoded data removed]",
      "text/plain": [
       "<Figure size 720x360 with 1 Axes>"
      ]
     },
     "metadata": {
      "needs_background": "light"
     },
     "output_type": "display_data"
    }
   ],
   "source": [
    "fig, ax=plt.subplots(figsize=(10,5))\n",
    "sns.countplot(data=df_pass, x='country', order = df['country'].value_counts().index)\n",
    "plt.title('Number of students who passed by country', fontsize=14)\n",
    "plt.show()"
   ]
  },
  {
   "cell_type": "markdown",
   "metadata": {},
   "source": [
    "Japan had the most people who took the test by far."
   ]
  },
  {
   "cell_type": "markdown",
   "metadata": {},
   "source": [
    "### Pass rate by country"
   ]
  },
  {
   "cell_type": "code",
   "execution_count": null,
   "metadata": {},
   "outputs": [
    {
     "data": {
      "image/png": "[encoded data removed]",
      "text/plain": [
       "<Figure size 748.8x288 with 1 Axes>"
      ]
     },
     "metadata": {
      "needs_background": "light"
     },
     "output_type": "display_data"
    }
   ],
   "source": [
    "df_plot = df.groupby('country')['pass'].value_counts(normalize=True).rename('percent').mul(100).reset_index()\n",
    "df_plot = df_plot.sort_values(['pass','percent'], ascending=False).reset_index(drop=True)\n",
    "df_plot = df_plot[df_plot['pass'] == 1]\n",
    "g = sns.catplot(x=\"country\", y=\"percent\", data=df_plot, kind='bar', height=4, aspect=2.6, order=df_plot['country'].to_list()).set(title='Pass rate of different countries')\n",
    "sns.despine(fig=None, ax=None, top=False, right=False, left=False, bottom=False, offset=None, trim=False)\n",
    "plt.title(\"Pass rate for different countries\", fontsize=14)\n",
    "plt.ylabel('Percent (%)',fontsize=14)\n",
    "plt.xlabel('Country',fontsize=14)\n",
    "plt.xticks(fontsize=12)\n",
    "\n",
    "plt.show()"
   ]
  },
  {
   "cell_type": "markdown",
   "metadata": {},
   "source": [
    "**=> Students from USA have the highest pass rate (51.4%). While Japan has the most number of students who took the test, they have a pass rate (46.6%).**"
   ]
  },
  {
   "cell_type": "markdown",
   "metadata": {},
   "source": [
    "### Age distribution of students who passed"
   ]
  },
  {
   "cell_type": "code",
   "execution_count": null,
   "metadata": {},
   "outputs": [
    {
     "data": {
      "image/png": "[encoded data removed]",
      "text/plain": [
       "<Figure size 432x288 with 1 Axes>"
      ]
     },
     "metadata": {
      "needs_background": "light"
     },
     "output_type": "display_data"
    }
   ],
   "source": [
    "sns.histplot(data=df_pass, x='age', color='blue', alpha=0.5, bins=np.arange(18,51,1))\n",
    "plt.xlim((18, 50))\n",
    "plt.show()"
   ]
  },
  {
   "cell_type": "markdown",
   "metadata": {},
   "source": [
    "Larger number of younger students took the test and therefore larger number of younger students pass."
   ]
  },
  {
   "cell_type": "markdown",
   "metadata": {},
   "source": [
    "Next, I binned the ages of the people who took the test into specific groups to examine the absolute number of students within each group and the pass rate of the students within each group."
   ]
  },
  {
   "cell_type": "code",
   "execution_count": null,
   "metadata": {},
   "outputs": [],
   "source": [
    "age_bins = [17.9, 20, 25, 30, 35, 40, 45, 50.1]\n",
    "df['age_bin'] = pd.cut(df['age'], bins=age_bins)"
   ]
  },
  {
   "cell_type": "code",
   "execution_count": null,
   "metadata": {},
   "outputs": [
    {
     "data": {
      "image/png": "[encoded data removed]",
      "text/plain": [
       "<Figure size 648x360 with 1 Axes>"
      ]
     },
     "metadata": {
      "needs_background": "light"
     },
     "output_type": "display_data"
    }
   ],
   "source": [
    "df_plot = df.groupby('age_bin')['pass'].value_counts().rename('count').reset_index()\n",
    "df_plot = df_plot[df_plot['pass'] == 1]\n",
    "\n",
    "fig, ax=plt.subplots(figsize=(9,5))\n",
    "sns.barplot(data=df_plot, y=\"count\", x=\"age_bin\")\n",
    "plt.xlabel(\"Age group\", fontsize=14)\n",
    "plt.ylabel(\"Number of students who passed\", fontsize=14)\n",
    "plt.title('Number of students who passed per age group', fontsize=14)\n",
    "plt.show()"
   ]
  },
  {
   "cell_type": "markdown",
   "metadata": {},
   "source": [
    "The ages 18 to 25 has the highest absolute number of students passing. This means that young people are more likely to take this test. The number of people who take the test decreases as the age range increases.\n",
    "\n",
    "Next, we look at the pass rate within an age group. Therefore, for all the students within an age group, we look at the percentage of them who pass."
   ]
  },
  {
   "cell_type": "code",
   "execution_count": null,
   "metadata": {},
   "outputs": [
    {
     "data": {
      "image/png": "[encoded data removed]",
      "text/plain": [
       "<Figure size 648x360 with 1 Axes>"
      ]
     },
     "metadata": {
      "needs_background": "light"
     },
     "output_type": "display_data"
    }
   ],
   "source": [
    "df_plot = df.groupby('age_bin')['pass'].value_counts(normalize=True).mul(100).rename('percent').reset_index()\n",
    "df_plot = df_plot[df_plot['pass'] == 1]\n",
    "\n",
    "fig, ax=plt.subplots(figsize=(9,5))\n",
    "sns.barplot(data=df_plot, y=\"percent\", x=\"age_bin\")\n",
    "plt.xlabel(\"Age group\", fontsize=14)\n",
    "plt.ylabel(\"Pass rate (%)\", fontsize=14)\n",
    "plt.title('Pass rate for different age groups', fontsize=14)\n",
    "plt.show()"
   ]
  },
  {
   "cell_type": "markdown",
   "metadata": {},
   "source": [
    "When you look at people within a particular age group who took the test, people who were in the ages of 45 to 50 had the highest pass rate. In fact, as the age of the student increases, the pass rate increases. However this is offset by the fact that people younger than 25 make up the majority of test-takers."
   ]
  },
  {
   "cell_type": "markdown",
   "metadata": {},
   "source": [
    "### Summary for Part 1:\n",
    "\n",
    "Based on the EDA, in terms of absolute numbers, a student who passed is most likely to be:\n",
    "1. Male\n",
    "2. Students from Japan\n",
    "3. Language is Japanese\n",
    "4. Below age 25\n",
    "\n",
    "This means that if we randomly picked a student who passes, he is mostly likely to have the demographics listed above."
   ]
  },
  {
   "cell_type": "markdown",
   "metadata": {},
   "source": [
    "When we examine the pass rate of different demographic groups, we find the groups with the highest pass rates are:\n",
    "1. Male\n",
    "2. Students from USA\n",
    "3. Language is French\n",
    "4. Age 45-50\n",
    "\n",
    "This means that if we specify the demographics of the student, we can calculate a probability of them passing. In the future we could calculate more sophisticated probabilities for combined demographic groups using Bayes theorem."
   ]
  },
  {
   "cell_type": "markdown",
   "metadata": {},
   "source": [
    "## Part 2: The efficacy of the two interventions - the test prep course and the Dojo class"
   ]
  },
  {
   "cell_type": "markdown",
   "metadata": {},
   "source": [
    "Looking at the data, I discovered that there are four possible combinations for the students in terms of their preparation for the test. We loop through all four combinations and calculate the pass/fail rate for each of the above combinations.\n",
    "\n",
    "| dojo_class | test_prep |\n",
    "| --- | --- |\n",
    "| False | False |\n",
    "| False | True |\n",
    "| True | False |\n",
    "| True | True |"
   ]
  },
  {
   "cell_type": "code",
   "execution_count": null,
   "metadata": {},
   "outputs": [
    {
     "data": {
      "image/png": "[encoded data removed]",
      "text/plain": [
       "<Figure size 792x648 with 4 Axes>"
      ]
     },
     "metadata": {
      "needs_background": "light"
     },
     "output_type": "display_data"
    }
   ],
   "source": [
    "# List of possible combinations\n",
    "comb_list = [(i, j) for i in [False, True] for j in [False, True]]\n",
    "\n",
    "fig, axs = plt.subplots(nrows=2, ncols=2, figsize=(11, 9))\n",
    "fig.suptitle('Pass/fail rate for different combinations of preparation', fontsize=16)\n",
    "for i, ax in zip(range(4), axs.ravel()):\n",
    "    plt.subplots_adjust(hspace = 0.3)\n",
    "    df_temp = df[(df['dojo_class'] == comb_list[i][0]) & (df['test_prep'] == comb_list[i][1])]\n",
    "    df_temp.value_counts('pass', normalize=True).mul(100).loc[[1, 0]].plot(ax=ax, kind='bar', color=['#639c71', '#b35f60'])\n",
    "    ax.set_xlabel('')\n",
    "    ax.set_xticklabels([\"Pass\",\"Fail\"], rotation=0, fontsize=14)\n",
    "    ax.set_ylim((0, 80))\n",
    "    ax.set_ylabel('Percent (%)', fontsize=14)\n",
    "    ax.set_title(\"dojo_class = \"+str(comb_list[i][0])+\", test_prep = \"+str(comb_list[i][1]))\n",
    "    passval = round(df_temp.value_counts('pass', normalize=True).mul(100)[1],1)\n",
    "    failval = round(df_temp.value_counts('pass', normalize=True).mul(100)[0],1)\n",
    "    ax.text(-0.13, passval+1, str(passval)+\"%\", fontsize=12)\n",
    "    ax.text(0.87, failval+1, str(failval)+\"%\", fontsize=12)"
   ]
  },
  {
   "cell_type": "markdown",
   "metadata": {},
   "source": [
    "As we can see in the figure above, students who did neither the Dojo class nor test prep had a 35.3% pass rate. Students who did the test prep only had a 43.4% pass rate. The biggest increase was seen in the students who did the Dojo class only, where their pass rate jumps to 69.2%. However for students who did both the Dojo class and the test prep, there was only a 3.2% increase in the pass rate over the students who did the Dojo class only. \n",
    "\n",
    "**=> 69% of students who did only the Dojo class passed. 56% of students who did only the test prep passed. Students that didn't do any preparation at all had a pass rate of 35%**"
   ]
  },
  {
   "cell_type": "markdown",
   "metadata": {},
   "source": [
    "### Distribution of hours of study for each combination of Dojo class and test prep"
   ]
  },
  {
   "cell_type": "markdown",
   "metadata": {},
   "source": [
    "I also wanted to examine the number of hours of study for each combination. Maybe students who study more would pass anyway."
   ]
  },
  {
   "cell_type": "code",
   "execution_count": null,
   "metadata": {},
   "outputs": [
    {
     "data": {
      "image/png": "[encoded data removed]",
      "text/plain": [
       "<Figure size 792x648 with 4 Axes>"
      ]
     },
     "metadata": {
      "needs_background": "light"
     },
     "output_type": "display_data"
    }
   ],
   "source": [
    "fig, axs = plt.subplots(nrows=2, ncols=2, figsize=(11, 9))\n",
    "fig.suptitle('Distribution of hours of study', fontsize=16)\n",
    "for i, ax in zip([0, 1, 2, 3], axs.ravel()):\n",
    "    plt.subplots_adjust(hspace = 0.3)\n",
    "    df_plot = df[(df['dojo_class'] == comb_list[i][0]) & (df['test_prep'] == comb_list[i][1])]\n",
    "    sns.histplot(df_plot['hours_studied'], bins=np.arange(0,25,1), kde=False, ax=ax)\n",
    "    ax.set_title(\"dojo_class = \"+str(comb_list[i][0])+\", test_prep = \"+str(comb_list[i][1]))\n",
    "    ax.set_xlabel('Hours studied', fontsize=14)\n",
    "    ax.set_xlim((0, 25))\n",
    "    textval = round(df_plot['hours_studied'].median(),2)\n",
    "    yval = ax.get_ylim()[1]/3\n",
    "    ax.text(10, yval, \"Median: \"+str(textval)+\" hrs\", fontsize=12)"
   ]
  },
  {
   "cell_type": "markdown",
   "metadata": {},
   "source": [
    "Examining the distribution of the number of hours studied, the students who did either the Dojo class or test prep had a higher median than the students who did neither. However since we impute the missing values using the mean of the distribution by sex, we find that the most common number of hours studied is the median, which was imputed. In terms of future work, I would try imputing by sex and age group as well."
   ]
  },
  {
   "cell_type": "markdown",
   "metadata": {},
   "source": [
    "## 3. Create a model that can predict whether or not a student will pass the test"
   ]
  },
  {
   "cell_type": "markdown",
   "metadata": {},
   "source": [
    "Now, I attempt to predict whether or not a student will pass the test. I first prepare the data for input into our machine learning model. The steps that we take in order are: \n",
    "1. Converting the columns to categorical datatype for later one-hot encoding\n",
    "2. Defining the target and feature variables for the model. In this case the target variable is 'pass'\n",
    "3. Converting the categorical features into dummy variables through one-hot encoding.\n",
    "4. Splitting the data into a train set and a test set. A 70/30 train/test split was used in this case. This means that the model was trained on 70% of the dataset, and the final accuracy of the test data is used to evaluate the fit of the model.\n",
    "5. Scaling the numerical features of the data.\n",
    "6. Finally, the model is trained and the accuracy of the model is evaluated. Since there are many categorical variables due to the one-hot encoding, I chose to use tree-based models. I chose to use XGBoost because due to past experience, it seems to give the best results \"out of the box\", without much hyperparameter tuning."
   ]
  },
  {
   "cell_type": "markdown",
   "metadata": {},
   "source": [
    "### Converting some columns to categorial"
   ]
  },
  {
   "cell_type": "code",
   "execution_count": null,
   "metadata": {},
   "outputs": [],
   "source": [
    "df['sex'] = df['sex'].astype('category')\n",
    "df['lang'] = df['lang'].astype('category')\n",
    "df['country'] = df['country'].astype('category')\n",
    "df['dojo_class'] = df['dojo_class'].astype('category')\n",
    "df['test_prep'] = df['test_prep'].astype('category')"
   ]
  },
  {
   "cell_type": "markdown",
   "metadata": {},
   "source": [
    "### Define target and feature variables"
   ]
  },
  {
   "cell_type": "code",
   "execution_count": null,
   "metadata": {},
   "outputs": [],
   "source": [
    "y = df['pass']\n",
    "X = df.drop(['pass','age_bin'], axis=1)"
   ]
  },
  {
   "cell_type": "markdown",
   "metadata": {},
   "source": [
    "### Creating dummy variables"
   ]
  },
  {
   "cell_type": "code",
   "execution_count": null,
   "metadata": {},
   "outputs": [
    {
     "data": {
      "text/html": [
       "<div>\n",
       "<style scoped>\n",
       "    .dataframe tbody tr th:only-of-type {\n",
       "        vertical-align: middle;\n",
       "    }\n",
       "\n",
       "    .dataframe tbody tr th {\n",
       "        vertical-align: top;\n",
       "    }\n",
       "\n",
       "    .dataframe thead th {\n",
       "        text-align: right;\n",
       "    }\n",
       "</style>\n",
       "<table border=\"1\" class=\"dataframe\">\n",
       "  <thead>\n",
       "    <tr style=\"text-align: right;\">\n",
       "      <th></th>\n",
       "      <th>age</th>\n",
       "      <th>hours_studied</th>\n",
       "      <th>sex_Male</th>\n",
       "      <th>lang_Finnish</th>\n",
       "      <th>lang_French</th>\n",
       "      <th>lang_Italian</th>\n",
       "      <th>lang_Japanese</th>\n",
       "      <th>lang_Spanish</th>\n",
       "      <th>country_Finland</th>\n",
       "      <th>country_France</th>\n",
       "      <th>country_Italy</th>\n",
       "      <th>country_Japan</th>\n",
       "      <th>country_Mexico</th>\n",
       "      <th>country_New Zealand</th>\n",
       "      <th>country_Spain</th>\n",
       "      <th>country_UK</th>\n",
       "      <th>country_USA</th>\n",
       "      <th>dojo_class_True</th>\n",
       "      <th>test_prep_True</th>\n",
       "    </tr>\n",
       "  </thead>\n",
       "  <tbody>\n",
       "    <tr>\n",
       "      <th>0</th>\n",
       "      <td>20</td>\n",
       "      <td>10.578594</td>\n",
       "      <td>1</td>\n",
       "      <td>0</td>\n",
       "      <td>0</td>\n",
       "      <td>0</td>\n",
       "      <td>1</td>\n",
       "      <td>0</td>\n",
       "      <td>0</td>\n",
       "      <td>0</td>\n",
       "      <td>0</td>\n",
       "      <td>1</td>\n",
       "      <td>0</td>\n",
       "      <td>0</td>\n",
       "      <td>0</td>\n",
       "      <td>0</td>\n",
       "      <td>0</td>\n",
       "      <td>1</td>\n",
       "      <td>0</td>\n",
       "    </tr>\n",
       "    <tr>\n",
       "      <th>1</th>\n",
       "      <td>22</td>\n",
       "      <td>7.814520</td>\n",
       "      <td>1</td>\n",
       "      <td>0</td>\n",
       "      <td>0</td>\n",
       "      <td>0</td>\n",
       "      <td>1</td>\n",
       "      <td>0</td>\n",
       "      <td>0</td>\n",
       "      <td>0</td>\n",
       "      <td>0</td>\n",
       "      <td>1</td>\n",
       "      <td>0</td>\n",
       "      <td>0</td>\n",
       "      <td>0</td>\n",
       "      <td>0</td>\n",
       "      <td>0</td>\n",
       "      <td>0</td>\n",
       "      <td>0</td>\n",
       "    </tr>\n",
       "    <tr>\n",
       "      <th>2</th>\n",
       "      <td>27</td>\n",
       "      <td>4.213682</td>\n",
       "      <td>1</td>\n",
       "      <td>0</td>\n",
       "      <td>0</td>\n",
       "      <td>0</td>\n",
       "      <td>1</td>\n",
       "      <td>0</td>\n",
       "      <td>0</td>\n",
       "      <td>0</td>\n",
       "      <td>0</td>\n",
       "      <td>1</td>\n",
       "      <td>0</td>\n",
       "      <td>0</td>\n",
       "      <td>0</td>\n",
       "      <td>0</td>\n",
       "      <td>0</td>\n",
       "      <td>0</td>\n",
       "      <td>0</td>\n",
       "    </tr>\n",
       "    <tr>\n",
       "      <th>3</th>\n",
       "      <td>24</td>\n",
       "      <td>0.000000</td>\n",
       "      <td>1</td>\n",
       "      <td>0</td>\n",
       "      <td>0</td>\n",
       "      <td>0</td>\n",
       "      <td>1</td>\n",
       "      <td>0</td>\n",
       "      <td>0</td>\n",
       "      <td>0</td>\n",
       "      <td>0</td>\n",
       "      <td>1</td>\n",
       "      <td>0</td>\n",
       "      <td>0</td>\n",
       "      <td>0</td>\n",
       "      <td>0</td>\n",
       "      <td>0</td>\n",
       "      <td>0</td>\n",
       "      <td>0</td>\n",
       "    </tr>\n",
       "    <tr>\n",
       "      <th>4</th>\n",
       "      <td>21</td>\n",
       "      <td>3.248907</td>\n",
       "      <td>0</td>\n",
       "      <td>0</td>\n",
       "      <td>0</td>\n",
       "      <td>0</td>\n",
       "      <td>1</td>\n",
       "      <td>0</td>\n",
       "      <td>0</td>\n",
       "      <td>0</td>\n",
       "      <td>0</td>\n",
       "      <td>1</td>\n",
       "      <td>0</td>\n",
       "      <td>0</td>\n",
       "      <td>0</td>\n",
       "      <td>0</td>\n",
       "      <td>0</td>\n",
       "      <td>0</td>\n",
       "      <td>0</td>\n",
       "    </tr>\n",
       "  </tbody>\n",
       "</table>\n",
       "</div>"
      ],
      "text/plain": [
       "   age  hours_studied  sex_Male  lang_Finnish  lang_French  lang_Italian  \\\n",
       "0   20      10.578594         1             0            0             0   \n",
       "1   22       7.814520         1             0            0             0   \n",
       "2   27       4.213682         1             0            0             0   \n",
       "3   24       0.000000         1             0            0             0   \n",
       "4   21       3.248907         0             0            0             0   \n",
       "\n",
       "   lang_Japanese  lang_Spanish  country_Finland  country_France  \\\n",
       "0              1             0                0               0   \n",
       "1              1             0                0               0   \n",
       "2              1             0                0               0   \n",
       "3              1             0                0               0   \n",
       "4              1             0                0               0   \n",
       "\n",
       "   country_Italy  country_Japan  country_Mexico  country_New Zealand  \\\n",
       "0              0              1               0                    0   \n",
       "1              0              1               0                    0   \n",
       "2              0              1               0                    0   \n",
       "3              0              1               0                    0   \n",
       "4              0              1               0                    0   \n",
       "\n",
       "   country_Spain  country_UK  country_USA  dojo_class_True  test_prep_True  \n",
       "0              0           0            0                1               0  \n",
       "1              0           0            0                0               0  \n",
       "2              0           0            0                0               0  \n",
       "3              0           0            0                0               0  \n",
       "4              0           0            0                0               0  "
      ]
     },
     "execution_count": 35,
     "metadata": {},
     "output_type": "execute_result"
    }
   ],
   "source": [
    "# Creating dummy variables\n",
    "col_dummies = ['sex', 'lang', 'country', 'dojo_class', 'test_prep']\n",
    "X_dum = pd.get_dummies(X[col_dummies], drop_first=True)\n",
    "X.drop(col_dummies, axis=1, inplace=True)\n",
    "X = pd.concat([X, X_dum], axis=1)\n",
    "X.head()"
   ]
  },
  {
   "cell_type": "markdown",
   "metadata": {},
   "source": [
    "### Split train and test data"
   ]
  },
  {
   "cell_type": "code",
   "execution_count": null,
   "metadata": {},
   "outputs": [],
   "source": [
    "# Split train and test data\n",
    "X_train, X_test, y_train, y_test = train_test_split(X, y, test_size=0.3, stratify=y, random_state=RSEED)"
   ]
  },
  {
   "cell_type": "code",
   "execution_count": null,
   "metadata": {},
   "outputs": [],
   "source": [
    "# Print columns that will be scaled\n",
    "col_scale = list(X.dtypes[(X.dtypes == 'float64') | (X.dtypes == 'int64')].index)\n",
    "#print(\"Columns that will be scaled:\", col_scale)"
   ]
  },
  {
   "cell_type": "markdown",
   "metadata": {},
   "source": [
    "### Scaling the data"
   ]
  },
  {
   "cell_type": "code",
   "execution_count": null,
   "metadata": {},
   "outputs": [],
   "source": [
    "# Scaling the data\n",
    "scaler = StandardScaler()\n",
    "X_train_scaled = X_train.copy()\n",
    "X_test_scaled = X_test.copy()\n",
    "X_train_scaled[col_scale] = scaler.fit_transform(X_train[col_scale])\n",
    "X_test_scaled[col_scale] = scaler.transform(X_test[col_scale])"
   ]
  },
  {
   "cell_type": "markdown",
   "metadata": {},
   "source": [
    "### Predicting the pass rates using a logistic regression model"
   ]
  },
  {
   "cell_type": "code",
   "execution_count": null,
   "metadata": {},
   "outputs": [
    {
     "name": "stdout",
     "output_type": "stream",
     "text": [
      "Accuracy on train data :   0.707\n",
      "Accuracy on test data :   0.6613\n"
     ]
    }
   ],
   "source": [
    "xgb = XGBClassifier(max_depth=2, random_state=RSEED)\n",
    "xgb.fit(X_train, y_train)\n",
    "\n",
    "y_pred_train = xgb.predict(X_train)\n",
    "y_pred_test = xgb.predict(X_test)\n",
    "\n",
    "print(\"Accuracy on train data :  \", round(accuracy_score(y_train, y_pred_train),3))\n",
    "print(\"Accuracy on test data :  \", round(accuracy_score(y_test, y_pred_test),4))"
   ]
  },
  {
   "cell_type": "markdown",
   "metadata": {},
   "source": [
    "Initially, running the XGBClassifier with the default parameters lead to a significant difference between the train and test accuracy, which is indicative of overfitting to the training data. However, limiting the max_depth input of XGBClassifier resulted in improved results, where the difference in accuracy between the train and test data was not so large. In the future I would attempt to improve the accuracy through better feature engineering and optimizing the hyperparameters."
   ]
  },
  {
   "cell_type": "markdown",
   "metadata": {},
   "source": [
    "**=>A tree-based XGBClassifier model predicts with 66% accuracy the students that pass.**"
   ]
  },
  {
   "cell_type": "markdown",
   "metadata": {},
   "source": [
    "## Future work"
   ]
  },
  {
   "cell_type": "markdown",
   "metadata": {},
   "source": [
    "1. Imputing hours_studied by sex and age.\n",
    "\n",
    "I imputed the missing values by age. However, there can be more sophisticated ways of doing the imputation, such as separating the students who did no preparation at all vs students who did some preparation. I would also try imputing by age group. It is possible that students of certain ages study more hours.\n",
    "\n",
    "Also, I should not impute the whole set of data. I should impute the missing values for hours_studied based only on the mean or median of the train set. This means that the imputation step should be done after the train/test split.\n",
    "\n",
    "<br>\n",
    "\n",
    "2. Feature engineering to improve accuracy.\n",
    "\n",
    "One idea I had was to bin the ages and hours studied into age ranges and hours studied ranges. One hot encoding can then be performed \n",
    "\n",
    "The accuracy using a preliminary logistic regression model is only 65%, it can maybe be improved through better feature engineering, more sophisticated tree-based models and a grid search for the optimum parameters.\n",
    "\n",
    "I can also examine the importance of all the features in the model and drop features depending on how significant their contribution is.\n",
    "\n",
    "<br>\n",
    "\n",
    "3. Recommendations on what students could do to improve pass rate\n",
    "\n",
    "Female students have a very low pass rate in general, I would look into if there are differences from male students in terms of the number of hours they studied, whether they took a Dojo course or whether they did test prep. "
   ]
  }
 ],
 "metadata": {
  "kernelspec": {
   "display_name": "Python 3.9.8 ('.venv': venv)",
   "language": "python",
   "name": "python3"
  },
  "language_info": {
   "codemirror_mode": {
    "name": "ipython",
    "version": 3
   },
   "file_extension": ".py",
   "mimetype": "text/x-python",
   "name": "python",
   "nbconvert_exporter": "python",
   "pygments_lexer": "ipython3",
   "version": "3.9.8"
  },
  "orig_nbformat": 4,
  "vscode": {
   "interpreter": {
    "hash": "1cc520998e00ce1e368bef238b49c3245279e7566aaca5b300cafd180a244076"
   }
  }
 },
 "nbformat": 4,
 "nbformat_minor": 2
}
